{
  "nbformat": 4,
  "nbformat_minor": 0,
  "metadata": {
    "colab": {
      "provenance": [],
      "authorship_tag": "ABX9TyOmf62SY1WKT0C90ZYcyKBs",
      "include_colab_link": true
    },
    "kernelspec": {
      "name": "python3",
      "display_name": "Python 3"
    },
    "language_info": {
      "name": "python"
    }
  },
  "cells": [
    {
      "cell_type": "markdown",
      "metadata": {
        "id": "view-in-github",
        "colab_type": "text"
      },
      "source": [
        "<a href=\"https://colab.research.google.com/github/camilos125/Taller_4_condicionales_000500101/blob/main/Taller_4.ipynb\" target=\"_parent\"><img src=\"https://colab.research.google.com/assets/colab-badge.svg\" alt=\"Open In Colab\"/></a>"
      ]
    },
    {
      "cell_type": "markdown",
      "source": [
        "##CAMILO ANDRES SALGADO ALVAREZ\n",
        "camilo.salgado@upb.edu.co\n",
        "Id: 000500101"
      ],
      "metadata": {
        "id": "P6qyeFrRisdy"
      }
    },
    {
      "cell_type": "markdown",
      "source": [
        "##PROBLEMA 1\n",
        "Escribe un programa en Python que solicite al usuario ingresar una calificación numérica (de 0 a 5) y  luego  muestre  un  mensaje  que  diga  si  el  estudiante  aprobó  o  reprobó.  Utiliza  una  estructura selectiva doble (if -else)."
      ],
      "metadata": {
        "id": "rcNxfinAhQq5"
      }
    },
    {
      "cell_type": "code",
      "execution_count": 7,
      "metadata": {
        "colab": {
          "base_uri": "https://localhost:8080/"
        },
        "id": "QjZtbFYBeHCS",
        "outputId": "3eab123e-49bb-489b-8c9c-dfc0cca46f00"
      },
      "outputs": [
        {
          "output_type": "stream",
          "name": "stdout",
          "text": [
            "Ingrese su calificación (de 0 a 5): 2\n",
            "Lo siento, usted ha reprobado.\n"
          ]
        }
      ],
      "source": [
        "calificacion = float(input(\"Ingrese su calificación (de 0 a 5): \"))\n",
        "\n",
        "\n",
        "if calificacion >= 0 and calificacion <= 5:\n",
        "\n",
        "    if calificacion >= 3.0:\n",
        "        print(\"¡Felicidades! Usted ha aprobado.\")\n",
        "    else:\n",
        "        print(\"Lo siento, usted ha reprobado.\")\n",
        "else:\n",
        "    print(\"La calificación ingresada no está en el rango válido (de 0 a 5). Por favor, ingrese una calificación válida.\")\n"
      ]
    },
    {
      "cell_type": "markdown",
      "source": [
        "##PROBLEMA 2\n",
        "Escribe  un  programa  en Pythonque  solicite  al  usuario  ingresar  un  número  y  luego  determine  e imprima si el número es positivo, negativo o cero utilizando estructuras selectivas doble (if -else)."
      ],
      "metadata": {
        "id": "EibEDIQshduJ"
      }
    },
    {
      "cell_type": "code",
      "source": [
        "numero = float(input(\"Ingrese un número: \"))\n",
        "\n",
        "if numero > 0:\n",
        "    print(\"El número es positivo.\")\n",
        "elif numero < 0:\n",
        "    print(\"El número es negativo.\")\n",
        "else:\n",
        "    print(\"El número es cero.\")\n"
      ],
      "metadata": {
        "colab": {
          "base_uri": "https://localhost:8080/"
        },
        "id": "a35BHpkVe3tO",
        "outputId": "bf916d3d-9e38-452a-dea9-78312f435947"
      },
      "execution_count": 2,
      "outputs": [
        {
          "output_type": "stream",
          "name": "stdout",
          "text": [
            "Ingrese un número: 7\n",
            "El número es positivo.\n"
          ]
        }
      ]
    },
    {
      "cell_type": "markdown",
      "source": [
        "##PROBLEMA 3\n",
        "Escribe un programa en Python que solicite al usuario ingresar una contraseña. Si la contraseña es \"python123\",  el  programa  debe  imprimir  \"Contraseña  válida\".  De  lo  contrario,  debe  imprimir \"Contraseña incorrecta\". Utiliza una estructura selectiva doble (if -else)."
      ],
      "metadata": {
        "id": "SHJ51IKLhoHx"
      }
    },
    {
      "cell_type": "code",
      "source": [
        "contrasena_ingresada = input(\"Ingrese la contraseña: \")\n",
        "\n",
        "\n",
        "if contrasena_ingresada == \"python123\":\n",
        "    print(\"Contraseña válida\")\n",
        "else:\n",
        "    print(\"Contraseña incorrecta\")\n"
      ],
      "metadata": {
        "colab": {
          "base_uri": "https://localhost:8080/"
        },
        "id": "WKVItLF0fvkY",
        "outputId": "96580256-c57f-4948-dedf-8fa3fec52e2b"
      },
      "execution_count": 3,
      "outputs": [
        {
          "output_type": "stream",
          "name": "stdout",
          "text": [
            "Ingrese la contraseña: python123\n",
            "Contraseña válida\n"
          ]
        }
      ]
    },
    {
      "cell_type": "markdown",
      "source": [
        "##PROBLEMA 4\n",
        "Escribe un programa en Python que solicite al usuario ingresar un número y determine e imprima si el número es par o impar utilizando una estructura selectiva doble (if -else)."
      ],
      "metadata": {
        "id": "AGddQi4ph3DJ"
      }
    },
    {
      "cell_type": "code",
      "source": [
        "numero = int(input(\"Ingrese un número: \"))\n",
        "\n",
        "\n",
        "if numero % 2 == 0:\n",
        "    print(\"El número es par.\")\n",
        "else:\n",
        "    print(\"El número es impar.\")\n"
      ],
      "metadata": {
        "colab": {
          "base_uri": "https://localhost:8080/"
        },
        "id": "RjnXIGWkgPkB",
        "outputId": "70f153cc-9d86-4571-9892-dadf9456b843"
      },
      "execution_count": 4,
      "outputs": [
        {
          "output_type": "stream",
          "name": "stdout",
          "text": [
            "Ingrese un número: 5\n",
            "El número es impar.\n"
          ]
        }
      ]
    },
    {
      "cell_type": "markdown",
      "source": [
        "##PROBLEMA 5\n",
        "Escribe un programa en Python que solicite al usuario ingresar cinco números y luego determine e imprima cuál de los cinco números es mayor utilizando estructuras selectivas doble (if -else)."
      ],
      "metadata": {
        "id": "IanmfFydiCdZ"
      }
    },
    {
      "cell_type": "code",
      "source": [
        "numeros = []\n",
        "\n",
        "for i in range(5):\n",
        "    numero = float(input(f\"Ingrese el número {i+1}: \"))\n",
        "    numeros.append(numero)\n",
        "\n",
        "\n",
        "numero_mayor = numeros[0]\n",
        "\n",
        "\n",
        "for i in range(1, 5):\n",
        "    if numeros[i] > numero_mayor:\n",
        "        numero_mayor = numeros[i]\n",
        "\n",
        "\n",
        "print(f\"El número mayor es: {numero_mayor}\")\n"
      ],
      "metadata": {
        "colab": {
          "base_uri": "https://localhost:8080/"
        },
        "id": "XBZ5Smyqgc8H",
        "outputId": "7eaee2e8-2b35-4df7-c192-672ada759fea"
      },
      "execution_count": 5,
      "outputs": [
        {
          "output_type": "stream",
          "name": "stdout",
          "text": [
            "Ingrese el número 1: 2\n",
            "Ingrese el número 2: 7\n",
            "Ingrese el número 3: 9\n",
            "Ingrese el número 4: 10\n",
            "Ingrese el número 5: 6\n",
            "El número mayor es: 10.0\n"
          ]
        }
      ]
    },
    {
      "cell_type": "markdown",
      "source": [
        "##PROBLEMA 6\n",
        "Escribe un programa en Python que solicite al usuario ingresar una edad y determine e imprima en qué  categoría  se  encuentra  la  persona:  \"Niño\"  (0-12  años),  \"Adolescente\"  (13-19  años),  \"Adulto\" (20-64 años) o \"Adulto Mayor\" (65 o más años)."
      ],
      "metadata": {
        "id": "PZzuy7VciMGi"
      }
    },
    {
      "cell_type": "code",
      "source": [
        "edad = int(input(\"Ingrese su edad: \"))\n",
        "\n",
        "\n",
        "if edad >= 0 and edad <= 12:\n",
        "    categoria = \"Niño\"\n",
        "elif edad >= 13 and edad <= 19:\n",
        "    categoria = \"Adolescente\"\n",
        "elif edad >= 20 and edad <= 64:\n",
        "    categoria = \"Adulto\"\n",
        "else:\n",
        "    categoria = \"Adulto Mayor\"\n",
        "\n",
        "\n",
        "print(f\"La persona está en la categoría: {categoria}\")\n"
      ],
      "metadata": {
        "colab": {
          "base_uri": "https://localhost:8080/"
        },
        "id": "YGeIo71uhBiy",
        "outputId": "11d87764-e4ee-474e-a4aa-37740bc36e1a"
      },
      "execution_count": 8,
      "outputs": [
        {
          "output_type": "stream",
          "name": "stdout",
          "text": [
            "Ingrese su edad: 13\n",
            "La persona está en la categoría: Adolescente\n"
          ]
        }
      ]
    }
  ]
}