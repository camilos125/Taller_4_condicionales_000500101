{
  "nbformat": 4,
  "nbformat_minor": 0,
  "metadata": {
    "colab": {
      "provenance": [],
      "authorship_tag": "ABX9TyPP+yuOPazWGjnsYzklNelu",
      "include_colab_link": true
    },
    "kernelspec": {
      "name": "python3",
      "display_name": "Python 3"
    },
    "language_info": {
      "name": "python"
    }
  },
  "cells": [
    {
      "cell_type": "markdown",
      "metadata": {
        "id": "view-in-github",
        "colab_type": "text"
      },
      "source": [
        "<a href=\"https://colab.research.google.com/github/camilos125/Taller_4_condicionales_000500101/blob/main/Taller_4.ipynb\" target=\"_parent\"><img src=\"https://colab.research.google.com/assets/colab-badge.svg\" alt=\"Open In Colab\"/></a>"
      ]
    },
    {
      "cell_type": "markdown",
      "source": [
        "##CAMILO ANDRES SALGADO ALVAREZ\n",
        "camilo.salgado@upb.edu.co\n",
        "Id: 000500101"
      ],
      "metadata": {
        "id": "P6qyeFrRisdy"
      }
    },
    {
      "cell_type": "markdown",
      "source": [
        "##PROBLEMA 1\n",
        "Escribe un programa en Python que solicite al usuario ingresar una calificación numérica (de 0 a 5) y  luego  muestre  un  mensaje  que  diga  si  el  estudiante  aprobó  o  reprobó.  Utiliza  una  estructura selectiva doble (if -else)."
      ],
      "metadata": {
        "id": "rcNxfinAhQq5"
      }
    },
    {
      "cell_type": "code",
      "execution_count": 12,
      "metadata": {
        "colab": {
          "base_uri": "https://localhost:8080/"
        },
        "id": "QjZtbFYBeHCS",
        "outputId": "faea9040-a209-47e2-db88-4038065907c3"
      },
      "outputs": [
        {
          "output_type": "stream",
          "name": "stdout",
          "text": [
            "Ingrese su calificación (de 0 a 5): 2\n",
            " reprobado.\n"
          ]
        }
      ],
      "source": [
        "calificacion = float(input(\"Ingrese su calificación (de 0 a 5): \"))\n",
        "\n",
        "\n",
        "if calificacion >= 0 and calificacion <= 5:\n",
        "\n",
        "    if calificacion >= 3.0:\n",
        "        print(\" aprobado.\")\n",
        "    else:\n",
        "        print(\" reprobado.\")\n",
        "else:\n",
        "    print(\"La calificación ingresada no está en el rango válido (de 0 a 5). Por favor, ingrese una calificación válida.\")\n"
      ]
    },
    {
      "cell_type": "markdown",
      "source": [
        "##PROBLEMA 2\n",
        "Escribe  un  programa  en Pythonque  solicite  al  usuario  ingresar  un  número  y  luego  determine  e imprima si el número es positivo, negativo o cero utilizando estructuras selectivas doble (if -else)."
      ],
      "metadata": {
        "id": "EibEDIQshduJ"
      }
    },
    {
      "cell_type": "code",
      "source": [
        "numero = float(input(\"Ingrese un número: \"))\n",
        "\n",
        "if numero > 0:\n",
        "    print(\" positivo.\")\n",
        "elif numero < 0:\n",
        "    print(\" negativo.\")\n",
        "else:\n",
        "    print(\" cero.\")\n"
      ],
      "metadata": {
        "colab": {
          "base_uri": "https://localhost:8080/"
        },
        "id": "a35BHpkVe3tO",
        "outputId": "ccb8d221-e62c-46a3-bfe0-9dac3d94e92d"
      },
      "execution_count": 15,
      "outputs": [
        {
          "output_type": "stream",
          "name": "stdout",
          "text": [
            "Ingrese un número: -8\n",
            " negativo.\n"
          ]
        }
      ]
    },
    {
      "cell_type": "markdown",
      "source": [
        "##PROBLEMA 3\n",
        "Escribe un programa en Python que solicite al usuario ingresar una contraseña. Si la contraseña es \"python123\",  el  programa  debe  imprimir  \"Contraseña  válida\".  De  lo  contrario,  debe  imprimir \"Contraseña incorrecta\". Utiliza una estructura selectiva doble (if -else)."
      ],
      "metadata": {
        "id": "SHJ51IKLhoHx"
      }
    },
    {
      "cell_type": "code",
      "source": [
        "contrasena_ingresada = input(\"Ingrese la contraseña: \")\n",
        "\n",
        "\n",
        "if contrasena_ingresada == \"python123\":\n",
        "    print(\" válida\")\n",
        "else:\n",
        "    print(\" incorrecta\")\n"
      ],
      "metadata": {
        "colab": {
          "base_uri": "https://localhost:8080/"
        },
        "id": "WKVItLF0fvkY",
        "outputId": "72eac599-9141-45eb-b095-5e377963ea37"
      },
      "execution_count": 16,
      "outputs": [
        {
          "output_type": "stream",
          "name": "stdout",
          "text": [
            "Ingrese la contraseña: juodof\n",
            " incorrecta\n"
          ]
        }
      ]
    },
    {
      "cell_type": "markdown",
      "source": [
        "##PROBLEMA 4\n",
        "Escribe un programa en Python que solicite al usuario ingresar un número y determine e imprima si el número es par o impar utilizando una estructura selectiva doble (if -else)."
      ],
      "metadata": {
        "id": "AGddQi4ph3DJ"
      }
    },
    {
      "cell_type": "code",
      "source": [
        "numero = int(input(\"Ingrese un número: \"))\n",
        "\n",
        "\n",
        "if numero % 2 == 0:\n",
        "    print(\" par.\")\n",
        "else:\n",
        "    print(\" impar.\")\n"
      ],
      "metadata": {
        "colab": {
          "base_uri": "https://localhost:8080/"
        },
        "id": "RjnXIGWkgPkB",
        "outputId": "ac9b24c2-3d3b-4884-c8b3-d5de1f7a06ea"
      },
      "execution_count": 17,
      "outputs": [
        {
          "output_type": "stream",
          "name": "stdout",
          "text": [
            "Ingrese un número: 8\n",
            " par.\n"
          ]
        }
      ]
    },
    {
      "cell_type": "markdown",
      "source": [
        "##PROBLEMA 5\n",
        "Escribe un programa en Python que solicite al usuario ingresar cinco números y luego determine e imprima cuál de los cinco números es mayor utilizando estructuras selectivas doble (if -else)."
      ],
      "metadata": {
        "id": "IanmfFydiCdZ"
      }
    },
    {
      "cell_type": "code",
      "source": [
        "numeros = []\n",
        "\n",
        "for i in range(5):\n",
        "    numero = float(input(f\"Ingrese el número {i+1}: \"))\n",
        "    numeros.append(numero)\n",
        "\n",
        "\n",
        "numero_mayor = numeros[0]\n",
        "\n",
        "\n",
        "for i in range(1, 5):\n",
        "    if numeros[i] > numero_mayor:\n",
        "        numero_mayor = numeros[i]\n",
        "\n",
        "\n",
        "print(f\"El número mayor es: {numero_mayor}\")\n"
      ],
      "metadata": {
        "colab": {
          "base_uri": "https://localhost:8080/"
        },
        "id": "XBZ5Smyqgc8H",
        "outputId": "7eaee2e8-2b35-4df7-c192-672ada759fea"
      },
      "execution_count": null,
      "outputs": [
        {
          "output_type": "stream",
          "name": "stdout",
          "text": [
            "Ingrese el número 1: 2\n",
            "Ingrese el número 2: 7\n",
            "Ingrese el número 3: 9\n",
            "Ingrese el número 4: 10\n",
            "Ingrese el número 5: 6\n",
            "El número mayor es: 10.0\n"
          ]
        }
      ]
    },
    {
      "cell_type": "markdown",
      "source": [
        "##PROBLEMA 6\n",
        "Escribe un programa en Python que solicite al usuario ingresar una edad y determine e imprima en qué  categoría  se  encuentra  la  persona:  \"Niño\"  (0-12  años),  \"Adolescente\"  (13-19  años),  \"Adulto\" (20-64 años) o \"Adulto Mayor\" (65 o más años)."
      ],
      "metadata": {
        "id": "PZzuy7VciMGi"
      }
    },
    {
      "cell_type": "code",
      "source": [
        "edad = int(input(\"Ingrese su edad: \"))\n",
        "\n",
        "\n",
        "if edad >= 0 and edad <= 12:\n",
        "    categoria = \"Niño\"\n",
        "elif edad >= 13 and edad <= 19:\n",
        "    categoria = \"Adolescente\"\n",
        "elif edad >= 20 and edad <= 64:\n",
        "    categoria = \"Adulto\"\n",
        "else:\n",
        "    categoria = \"Adulto Mayor\"\n",
        "\n",
        "\n",
        "print(f\"La persona está en la categoría: {categoria}\")\n"
      ],
      "metadata": {
        "colab": {
          "base_uri": "https://localhost:8080/"
        },
        "id": "YGeIo71uhBiy",
        "outputId": "11d87764-e4ee-474e-a4aa-37740bc36e1a"
      },
      "execution_count": null,
      "outputs": [
        {
          "output_type": "stream",
          "name": "stdout",
          "text": [
            "Ingrese su edad: 13\n",
            "La persona está en la categoría: Adolescente\n"
          ]
        }
      ]
    }
  ]
}